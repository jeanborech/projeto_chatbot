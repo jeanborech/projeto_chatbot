{
 "cells": [
  {
   "cell_type": "code",
   "execution_count": 21,
   "id": "9b8d0cba",
   "metadata": {},
   "outputs": [],
   "source": [
    "import openai"
   ]
  },
  {
   "cell_type": "code",
   "execution_count": 22,
   "id": "eb5b3ba3",
   "metadata": {},
   "outputs": [],
   "source": [
    "client = openai.Client()"
   ]
  },
  {
   "cell_type": "code",
   "execution_count": 23,
   "id": "d8f7a5ca",
   "metadata": {},
   "outputs": [],
   "source": [
    "assistant = client.beta.assistants.create(\n",
    "    name=\"Tutor de Tecnologia\",\n",
    "    instructions=\"Você é um tutor sobre assuntos relacionados a tecnologia\",\n",
    "    tools=[{\"type\":\"code_interpreter\"}],\n",
    "    model=\"gpt-3.5-turbo-0125\"\n",
    ")"
   ]
  },
  {
   "cell_type": "code",
   "execution_count": 24,
   "id": "0a931bef",
   "metadata": {},
   "outputs": [],
   "source": [
    "pergunta = \"\"\"\n",
    "Em um sistema de cache com mapeamento direto, dado uma memória principal de um cache \n",
    "de 256 KB e blocos de 64 bytes:\n",
    "- Quantas linhas existem na cache?\n",
    "- Onde o bloco de endereço 0x1A23C será mapeado na cache?\n",
    "\"\"\""
   ]
  },
  {
   "cell_type": "code",
   "execution_count": 25,
   "id": "7b629ace",
   "metadata": {},
   "outputs": [],
   "source": [
    "# Criação da Thread\n",
    "thread = client.beta.threads.create()\n",
    "message = client.beta.threads.messages.create(\n",
    "    thread_id=thread.id,\n",
    "    role=\"user\",\n",
    "    content=pergunta\n",
    "    \n",
    ")"
   ]
  },
  {
   "cell_type": "code",
   "execution_count": 26,
   "id": "933cf522",
   "metadata": {},
   "outputs": [],
   "source": [
    "#Executa a thread\n",
    "run = client.beta.threads.runs.create(\n",
    "    thread_id=thread.id,\n",
    "    assistant_id=assistant.id,\n",
    "    instructions=\"Nome de usuário premium\"\n",
    "    \n",
    ")\n"
   ]
  },
  {
   "cell_type": "code",
   "execution_count": 27,
   "id": "d752a334",
   "metadata": {},
   "outputs": [
    {
     "data": {
      "text/plain": [
       "Run(id='run_oYZs2woCIBXAgb6uIMcSY30h', assistant_id='asst_KJdqBLxAoVqBuuXW7nPgRcKP', cancelled_at=None, completed_at=None, created_at=1746809452, expires_at=1746810052, failed_at=None, incomplete_details=None, instructions='Nome de usuário premium', last_error=None, max_completion_tokens=None, max_prompt_tokens=None, metadata={}, model='gpt-3.5-turbo-0125', object='thread.run', parallel_tool_calls=True, required_action=None, response_format='auto', started_at=None, status='queued', thread_id='thread_ycEKiXcvVaEUAtGD2CBfPg5z', tool_choice='auto', tools=[CodeInterpreterTool(type='code_interpreter')], truncation_strategy=TruncationStrategy(type='auto', last_messages=None), usage=None, temperature=1.0, top_p=1.0, tool_resources={}, reasoning_effort=None)"
      ]
     },
     "execution_count": 27,
     "metadata": {},
     "output_type": "execute_result"
    }
   ],
   "source": [
    "run"
   ]
  },
  {
   "cell_type": "code",
   "execution_count": 28,
   "id": "6a4f3e41",
   "metadata": {},
   "outputs": [],
   "source": [
    "#Aguarda a thread rodar\n",
    "import time\n",
    "while run.status in [\"queued\", \"in_progress\", \"cancelling\"]:\n",
    "    time.sleep(1)\n",
    "    run = client.beta.threads.runs.retrieve(\n",
    "        thread_id=thread.id,\n",
    "        run_id=run.id\n",
    "    )"
   ]
  },
  {
   "cell_type": "code",
   "execution_count": 29,
   "id": "b9fbaf89",
   "metadata": {},
   "outputs": [
    {
     "name": "stdout",
     "output_type": "stream",
     "text": [
      "SyncCursorPage[Message](data=[Message(id='msg_m9AEnhPsNaKWFYD8l9HI0qcx', assistant_id='asst_KJdqBLxAoVqBuuXW7nPgRcKP', attachments=[], completed_at=None, content=[TextContentBlock(text=Text(annotations=[], value='O endereço 0x1A23C convertido para binário é 11010001000111100.\\n\\nO bloco de endereço 0x1A23C será mapeado na linha de índice 1672 da cache.\\n\\nSe precisar de mais alguma coisa, estarei por aqui.'), type='text')], created_at=1746809466, incomplete_at=None, incomplete_details=None, metadata={}, object='thread.message', role='assistant', run_id='run_oYZs2woCIBXAgb6uIMcSY30h', status=None, thread_id='thread_ycEKiXcvVaEUAtGD2CBfPg5z'), Message(id='msg_DjAUFXh3TR4aYzPwwVj7whUb', assistant_id='asst_KJdqBLxAoVqBuuXW7nPgRcKP', attachments=[], completed_at=None, content=[TextContentBlock(text=Text(annotations=[], value='A cache com mapeamento direto possui 4096 linhas.\\n\\nAgora, vamos determinar onde o bloco de endereço 0x1A23C será mapeado na cache. Para isso, primeiro precisamos converter o endereço para binário e, em seguida, calcular o índice do bloco na cache. Vamos fazer esses cálculos:'), type='text')], created_at=1746809462, incomplete_at=None, incomplete_details=None, metadata={}, object='thread.message', role='assistant', run_id='run_oYZs2woCIBXAgb6uIMcSY30h', status=None, thread_id='thread_ycEKiXcvVaEUAtGD2CBfPg5z'), Message(id='msg_QUqNac8F3OJdMg2e29ZXr5w4', assistant_id='asst_KJdqBLxAoVqBuuXW7nPgRcKP', attachments=[], completed_at=None, content=[TextContentBlock(text=Text(annotations=[], value='Para determinar o número de linhas na cache em um sistema de cache com mapeamento direto, precisamos calcular a quantidade de blocos que a cache pode armazenar e dividir esse valor pelo tamanho de cada bloco.\\n\\nDado que a cache tem 256 KB e cada bloco tem 64 bytes, podemos calcular o número de linhas na cache da seguinte maneira:\\n\\n\\\\[\\n\\\\text{Número de linhas na cache} = \\\\frac{\\\\text{Tamanho da cache em KB}}{\\\\text{Tamanho do bloco em bytes}}\\n\\\\]\\n\\nApós encontrar o número de linhas na cache, podemos determinar onde o bloco de endereço 0x1A23C será mapeado usando a técnica de mapeamento direto, que envolve o cálculo do índice do bloco na cache.\\n\\nPara isso, podemos fazer a seguinte operação:\\n- Calcular o tamanho do bloco em bits (log2 do tamanho do bloco)\\n- Calcular o número de blocos na cache (tamanho da cache dividido pelo tamanho do bloco)\\n- Calcular o índice do bloco na cache (endereço do bloco dividido pelo número de blocos na cache)\\n\\nVamos realizar esses cálculos a seguir:'), type='text')], created_at=1746809456, incomplete_at=None, incomplete_details=None, metadata={}, object='thread.message', role='assistant', run_id='run_oYZs2woCIBXAgb6uIMcSY30h', status=None, thread_id='thread_ycEKiXcvVaEUAtGD2CBfPg5z'), Message(id='msg_cHhKhjjavHsUsGru5gTUjxBi', assistant_id=None, attachments=[], completed_at=None, content=[TextContentBlock(text=Text(annotations=[], value='\\nEm um sistema de cache com mapeamento direto, dado uma memória principal de um cache \\nde 256 KB e blocos de 64 bytes:\\n- Quantas linhas existem na cache?\\n- Onde o bloco de endereço 0x1A23C será mapeado na cache?\\n'), type='text')], created_at=1746809451, incomplete_at=None, incomplete_details=None, metadata={}, object='thread.message', role='user', run_id=None, status=None, thread_id='thread_ycEKiXcvVaEUAtGD2CBfPg5z')], has_more=False, object='list', first_id='msg_m9AEnhPsNaKWFYD8l9HI0qcx', last_id='msg_cHhKhjjavHsUsGru5gTUjxBi')\n"
     ]
    }
   ],
   "source": [
    "#Verificar a respota\n",
    "if run.status == \"completed\":\n",
    "    mensagens = client.beta.threads.messages.list(\n",
    "        thread_id=thread.id\n",
    "    )\n",
    "    print(mensagens)\n",
    "else:\n",
    "    print(f\"ERRO {run.status}\")    \n",
    "    "
   ]
  },
  {
   "cell_type": "code",
   "execution_count": 30,
   "id": "41fd58e4",
   "metadata": {},
   "outputs": [
    {
     "name": "stdout",
     "output_type": "stream",
     "text": [
      "O endereço 0x1A23C convertido para binário é 11010001000111100.\n",
      "\n",
      "O bloco de endereço 0x1A23C será mapeado na linha de índice 1672 da cache.\n",
      "\n",
      "Se precisar de mais alguma coisa, estarei por aqui.\n"
     ]
    }
   ],
   "source": [
    "print(mensagens.data[0].content[0].text.value)"
   ]
  },
  {
   "cell_type": "code",
   "execution_count": 31,
   "id": "bc4dbb3f",
   "metadata": {},
   "outputs": [],
   "source": [
    "# Analisando espaços do modelo\n",
    "run_steps = client.beta.threads.runs.steps.list(\n",
    "    thread_id=thread.id,\n",
    "    run_id=run.id\n",
    ")"
   ]
  },
  {
   "cell_type": "code",
   "execution_count": 33,
   "id": "61777312",
   "metadata": {},
   "outputs": [
    {
     "name": "stdout",
     "output_type": "stream",
     "text": [
      "\n",
      "====Stepmessage_creation\n",
      "\n",
      "====Steptool_calls\n",
      "==========\n",
      "# Tamanho da cache em KB e tamanho do bloco em bytes\n",
      "cache_size_kb = 256\n",
      "block_size_bytes = 64\n",
      "\n",
      "# Convertendo o tamanho da cache para bytes\n",
      "cache_size_bytes = cache_size_kb * 1024\n",
      "\n",
      "# Calculando o número de linhas na cache\n",
      "num_lines_cache = cache_size_bytes / block_size_bytes\n",
      "\n",
      "num_lines_cache\n",
      "==========\n",
      "\n",
      "====Stepmessage_creation\n",
      "\n",
      "====Steptool_calls\n",
      "==========\n",
      "import math\n",
      "\n",
      "# Endereço do bloco em hexadecimal\n",
      "address = 0x1A23C\n",
      "\n",
      "# Convertendo o endereço para binário\n",
      "address_binary = bin(address)[2:]\n",
      "\n",
      "# Calculando o tamanho do bloco em bits (log2 do tamanho do bloco)\n",
      "block_size_bits = int(math.log2(block_size_bytes))\n",
      "\n",
      "# Calculando o número de blocos na cache (tamanho da cache dividido pelo tamanho do bloco)\n",
      "num_blocks_cache = cache_size_bytes / block_size_bytes\n",
      "\n",
      "# Calculando o índice do bloco na cache\n",
      "block_index = address // block_size_bytes % num_blocks_cache  # Índice do bloco na cache\n",
      "\n",
      "address_binary, block_index\n",
      "==========\n",
      "\n",
      "====Stepmessage_creation\n"
     ]
    }
   ],
   "source": [
    "for step in run_steps.data[::-1]:\n",
    "    print(f\"\\n====Step{step.step_details.type}\")\n",
    "    if step.step_details.type == \"tool_calls\":\n",
    "        for tool_call in step.step_details.tool_calls:\n",
    "            print(\"=\" *10)\n",
    "            print(tool_call.code_interpreter.input)\n",
    "            print(\"=\" *10)\n",
    "            if step.step_details.type == \"message_creation\":\n",
    "                message = client.beta.threads.messages.retrieve(\n",
    "                  thread_id=thread.id,\n",
    "                  message_id=step.step_details.message_creation.message_id\n",
    "                )\n",
    "                \n",
    "                print(message.content[0].text.value)"
   ]
  }
 ],
 "metadata": {
  "kernelspec": {
   "display_name": ".venv",
   "language": "python",
   "name": "python3"
  },
  "language_info": {
   "codemirror_mode": {
    "name": "ipython",
    "version": 3
   },
   "file_extension": ".py",
   "mimetype": "text/x-python",
   "name": "python",
   "nbconvert_exporter": "python",
   "pygments_lexer": "ipython3",
   "version": "3.12.8"
  }
 },
 "nbformat": 4,
 "nbformat_minor": 5
}
