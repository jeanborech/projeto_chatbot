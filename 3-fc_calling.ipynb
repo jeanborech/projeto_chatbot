{
 "cells": [
  {
   "cell_type": "code",
   "execution_count": 1,
   "id": "62de5d32",
   "metadata": {},
   "outputs": [],
   "source": [
    "import json\n",
    "import openai"
   ]
  },
  {
   "cell_type": "code",
   "execution_count": 2,
   "id": "9cd7946a",
   "metadata": {},
   "outputs": [],
   "source": [
    "client = openai.Client()"
   ]
  },
  {
   "cell_type": "code",
   "execution_count": 3,
   "id": "940b00c1",
   "metadata": {},
   "outputs": [],
   "source": [
    "def saudacao_por_perido(hora):\n",
    "    if 5 <= 5 <12:\n",
    "        return json.dumps({\"saudacao\": \"Bom dia!\"})\n",
    "    elif 12 <= hora < 18:\n",
    "         return json.dumps({\"saudacao\": \"Boa tarde!\"})\n",
    "    elif 18 <= hora < 22:\n",
    "        return json.dumps({\"saudacao\": \"Boa noite!\"})\n",
    "    else:\n",
    "        return json.dumps({\"saudacao\": \"Boa madrugada!\"})\n",
    "\n"
   ]
  },
  {
   "cell_type": "code",
   "execution_count": 4,
   "id": "063c7599",
   "metadata": {},
   "outputs": [],
   "source": [
    "tools = [\n",
    "    {\n",
    "        \"type\": \"function\",\n",
    "        \"function\": {\n",
    "            \"name\": \"saudacao_por_perido\",\n",
    "            \"description\": \"Retorna uma saudação baseada na hora do dia\",\n",
    "        \"parameters\": {\n",
    "            \"type\": \"object\",\n",
    "            \"properties\":{\n",
    "                \"hora\":{\n",
    "                    \"type\": \"integer\",\n",
    "                    \"description\": \"A hora do dia em formato 24h\"},\n",
    "                },\n",
    "                \"required\": [\"hora\"]\n",
    "            \n",
    "         }\n",
    "      }\n",
    "    }\n",
    "]"
   ]
  },
  {
   "cell_type": "code",
   "execution_count": 5,
   "id": "623dbc33",
   "metadata": {},
   "outputs": [],
   "source": [
    "funcao_disponivel = {\n",
    "    \"saudacao_por_perido\": saudacao_por_perido\n",
    "}"
   ]
  },
  {
   "cell_type": "code",
   "execution_count": 26,
   "id": "7b1e0349",
   "metadata": {},
   "outputs": [],
   "source": [
    "mensagens = [{\"role\": \"user\", \"content\": \"Qual saudação o modelo me dá se for 20h?\"}]"
   ]
  },
  {
   "cell_type": "code",
   "execution_count": 27,
   "id": "690b2117",
   "metadata": {},
   "outputs": [],
   "source": [
    "resposta = client.chat.completions.create(\n",
    "    model=\"gpt-3.5-turbo-0125\",\n",
    "    messages=mensagens,\n",
    "    tools=tools,\n",
    "    tool_choice=\"auto\"\n",
    "    )"
   ]
  },
  {
   "cell_type": "code",
   "execution_count": 28,
   "id": "8940e04c",
   "metadata": {},
   "outputs": [
    {
     "data": {
      "text/plain": [
       "ChatCompletionMessage(content=None, refusal=None, role='assistant', annotations=[], audio=None, function_call=None, tool_calls=[ChatCompletionMessageToolCall(id='call_kT8UIWVZFKk45LKtl7TJf4fI', function=Function(arguments='{\"hora\":20}', name='saudacao_por_perido'), type='function')])"
      ]
     },
     "execution_count": 28,
     "metadata": {},
     "output_type": "execute_result"
    }
   ],
   "source": [
    "mensagens_resp = resposta.choices[0].message\n",
    "mensagens_resp"
   ]
  },
  {
   "cell_type": "code",
   "execution_count": 29,
   "id": "a5915308",
   "metadata": {},
   "outputs": [
    {
     "data": {
      "text/plain": [
       "[ChatCompletionMessageToolCall(id='call_kT8UIWVZFKk45LKtl7TJf4fI', function=Function(arguments='{\"hora\":20}', name='saudacao_por_perido'), type='function')]"
      ]
     },
     "execution_count": 29,
     "metadata": {},
     "output_type": "execute_result"
    }
   ],
   "source": [
    "tools_calls = mensagens_resp.tool_calls\n",
    "tools_calls"
   ]
  },
  {
   "cell_type": "code",
   "execution_count": 30,
   "id": "70f60e56",
   "metadata": {},
   "outputs": [],
   "source": [
    "if tools_calls:\n",
    "    mensagens.append(mensagens_resp)\n",
    "    for tools_call in tools_calls:\n",
    "        function_name = tools_call.function.name\n",
    "        function_to_call = funcao_disponivel[function_name]\n",
    "        function_args = json.loads(tools_call.function.arguments)\n",
    "        function_response = function_to_call(\n",
    "            hora= function_args.get(\"hora\")\n",
    "        )\n",
    "\n",
    "        mensagens.append(\n",
    "            {\n",
    "                \"tool_call_id\": tools_call.id,\n",
    "                \"role\": \"tool\",\n",
    "                \"name\": function_name,\n",
    "                \"content\": function_response\n",
    "\n",
    "            }\n",
    "        )\n",
    "\n",
    "        segunda_resposta = client.chat.completions.create(\n",
    "            model=\"gpt-3.5-turbo-0125\",\n",
    "            messages=mensagens\n",
    "        )"
   ]
  },
  {
   "cell_type": "code",
   "execution_count": 31,
   "id": "36bb5609",
   "metadata": {},
   "outputs": [
    {
     "data": {
      "text/plain": [
       "ChatCompletionMessage(content='Desculpe pelo erro, a saudação correta para as 20h é \"Boa noite!\".', refusal=None, role='assistant', annotations=[], audio=None, function_call=None, tool_calls=None)"
      ]
     },
     "execution_count": 31,
     "metadata": {},
     "output_type": "execute_result"
    }
   ],
   "source": [
    "mensagem_resposta = segunda_resposta.choices[0].message\n",
    "mensagem_resposta"
   ]
  }
 ],
 "metadata": {
  "kernelspec": {
   "display_name": ".venv",
   "language": "python",
   "name": "python3"
  },
  "language_info": {
   "codemirror_mode": {
    "name": "ipython",
    "version": 3
   },
   "file_extension": ".py",
   "mimetype": "text/x-python",
   "name": "python",
   "nbconvert_exporter": "python",
   "pygments_lexer": "ipython3",
   "version": "3.12.8"
  }
 },
 "nbformat": 4,
 "nbformat_minor": 5
}
