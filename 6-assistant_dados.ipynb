{
 "cells": [
  {
   "cell_type": "code",
   "execution_count": 41,
   "id": "292f5a79",
   "metadata": {},
   "outputs": [],
   "source": [
    "import openai\n",
    "import pandas as pd"
   ]
  },
  {
   "cell_type": "code",
   "execution_count": 42,
   "id": "8da17e49",
   "metadata": {},
   "outputs": [],
   "source": [
    "client = openai.Client()"
   ]
  },
  {
   "cell_type": "code",
   "execution_count": 60,
   "id": "0069ba15",
   "metadata": {},
   "outputs": [],
   "source": [
    "file = client.files.create(\n",
    "    file=open(\"variacao_dolar_2024.csv\", \"rb\"),\n",
    "    purpose=\"assistants\"\n",
    ")"
   ]
  },
  {
   "cell_type": "code",
   "execution_count": 44,
   "id": "6858a40f",
   "metadata": {},
   "outputs": [
    {
     "name": "stdout",
     "output_type": "stream",
     "text": [
      "file-AhwveFsEGpQUomeckpwWF8\n"
     ]
    }
   ],
   "source": [
    "print(file.id)"
   ]
  },
  {
   "cell_type": "code",
   "execution_count": 61,
   "id": "eb026957",
   "metadata": {},
   "outputs": [],
   "source": [
    "assistant = client.beta.assistants.create(\n",
    "    name=\"Analista de Dados\",\n",
    "    instructions=\"Você é um analista que analisa dados sobre vendas\",\n",
    "    tools=[{\"type\":\"code_interpreter\"}],\n",
    "    tool_resources={\"code_interpreter\":{\"file_ids\":[file.id]}},\n",
    "    model=\"gpt-4o\"\n",
    ")"
   ]
  },
  {
   "cell_type": "code",
   "execution_count": 62,
   "id": "aebf48c5",
   "metadata": {},
   "outputs": [],
   "source": [
    "# pergunta = \"Qual o rating médio das vendas do supermercado\"\n",
    "pergunta = \"Gere um gráfico a partir da variação do dolar ao longo de 2024\""
   ]
  },
  {
   "cell_type": "code",
   "execution_count": 63,
   "id": "69ed67b9",
   "metadata": {},
   "outputs": [],
   "source": [
    "# Criação da Thread\n",
    "thread = client.beta.threads.create()\n",
    "message = client.beta.threads.messages.create(\n",
    "    thread_id=thread.id,\n",
    "    role=\"user\",\n",
    "    content=pergunta\n",
    ")"
   ]
  },
  {
   "cell_type": "code",
   "execution_count": 64,
   "id": "cf3c3a68",
   "metadata": {},
   "outputs": [],
   "source": [
    "# Executa a thread\n",
    "run = client.beta.threads.runs.create(\n",
    "    thread_id=thread.id,\n",
    "    assistant_id=assistant.id,\n",
    "    instructions=\"Nome de usuário premium\"\n",
    ")"
   ]
  },
  {
   "cell_type": "code",
   "execution_count": 65,
   "id": "093ff041",
   "metadata": {},
   "outputs": [],
   "source": [
    "# Aguarda a thread rodar\n",
    "import time\n",
    "while run.status in [\"queued\", \"in_progress\", \"cancelling\"]:\n",
    "    time.sleep(1)\n",
    "    run = client.beta.threads.runs.retrieve(\n",
    "        thread_id=thread.id,\n",
    "        run_id=run.id\n",
    "    )"
   ]
  },
  {
   "cell_type": "code",
   "execution_count": 66,
   "id": "24fe4593",
   "metadata": {},
   "outputs": [
    {
     "name": "stdout",
     "output_type": "stream",
     "text": [
      "SyncCursorPage[Message](data=[Message(id='msg_FjDksGPWKpqfHZtehiw7MArL', assistant_id='asst_4WKd17Zc1NfVdxiGNau790t0', attachments=[], completed_at=None, content=[ImageFileContentBlock(image_file=ImageFile(file_id='file-KE1gSkoLMRmtdLgbjp9BmP', detail=None), type='image_file'), TextContentBlock(text=Text(annotations=[], value='Aqui está o gráfico que mostra a variação da cotação média do dólar ao longo de 2024. O gráfico ilustra a tendência da cotação durante os meses do ano, com uma linha conectando as médias mensais. Se precisar de mais alguma análise ou outro tipo de gráfico, fique à vontade para pedir.'), type='text')], created_at=1747678081, incomplete_at=None, incomplete_details=None, metadata={}, object='thread.message', role='assistant', run_id='run_hkvapp89PVawvaok8lij4tXJ', status=None, thread_id='thread_zILAGsxKR1I6KurfVLw8KCqq'), Message(id='msg_AktRZ5id5zhDUB1ylko8nshI', assistant_id='asst_4WKd17Zc1NfVdxiGNau790t0', attachments=[], completed_at=None, content=[TextContentBlock(text=Text(annotations=[], value='O arquivo contém dados da variação do dólar ao longo de 2024, com colunas que representam o mês, o ano, a menor cotação, a maior cotação e a cotação média do dólar em reais. Vamos gerar um gráfico para visualizar a variação da cotação média do dólar ao longo do ano de 2024.'), type='text')], created_at=1747678070, incomplete_at=None, incomplete_details=None, metadata={}, object='thread.message', role='assistant', run_id='run_hkvapp89PVawvaok8lij4tXJ', status=None, thread_id='thread_zILAGsxKR1I6KurfVLw8KCqq'), Message(id='msg_kkB7uavfiaQUxbcl1Wqs0Yfx', assistant_id='asst_4WKd17Zc1NfVdxiGNau790t0', attachments=[], completed_at=None, content=[TextContentBlock(text=Text(annotations=[], value='Primeiramente, vou analisar o arquivo enviado para identificar seus dados e formato. Isso nos ajudará a criar o gráfico desejado. Vamos carregar e examinar o conteúdo do arquivo.'), type='text')], created_at=1747678065, incomplete_at=None, incomplete_details=None, metadata={}, object='thread.message', role='assistant', run_id='run_hkvapp89PVawvaok8lij4tXJ', status=None, thread_id='thread_zILAGsxKR1I6KurfVLw8KCqq'), Message(id='msg_9giuAExexExYbh746IkyUj8c', assistant_id=None, attachments=[], completed_at=None, content=[TextContentBlock(text=Text(annotations=[], value='Gere um gráfico a partir da variação do dolar ao longo de 2024'), type='text')], created_at=1747678060, incomplete_at=None, incomplete_details=None, metadata={}, object='thread.message', role='user', run_id=None, status=None, thread_id='thread_zILAGsxKR1I6KurfVLw8KCqq')], has_more=False, object='list', first_id='msg_FjDksGPWKpqfHZtehiw7MArL', last_id='msg_9giuAExexExYbh746IkyUj8c')\n"
     ]
    }
   ],
   "source": [
    "# Verifica a resposta\n",
    "if run.status == \"completed\":\n",
    "    mensagens = client.beta.threads.messages.list(\n",
    "        thread_id=thread.id\n",
    "    )\n",
    "    print(mensagens)\n",
    "else:\n",
    "    print(f\"Erro {run.status}\")"
   ]
  },
  {
   "cell_type": "code",
   "execution_count": null,
   "id": "47593737",
   "metadata": {},
   "outputs": [],
   "source": [
    "mensagens.data[0].content[0].text.value"
   ]
  },
  {
   "cell_type": "code",
   "execution_count": 67,
   "id": "78045cc9",
   "metadata": {},
   "outputs": [],
   "source": [
    "# Analisando os passos do modelo\n",
    "run_steps = client.beta.threads.runs.steps.list(\n",
    "    thread_id=thread.id,\n",
    "    run_id=run.id\n",
    ")"
   ]
  },
  {
   "cell_type": "code",
   "execution_count": 68,
   "id": "e3536dc5",
   "metadata": {},
   "outputs": [
    {
     "name": "stdout",
     "output_type": "stream",
     "text": [
      "\n",
      "====Step message_creation\n",
      "Primeiramente, vou analisar o arquivo enviado para identificar seus dados e formato. Isso nos ajudará a criar o gráfico desejado. Vamos carregar e examinar o conteúdo do arquivo.\n",
      "\n",
      "====Step tool_calls\n",
      "==========\n",
      "import pandas as pd\n",
      "\n",
      "# Carregar o arquivo enviado\n",
      "file_path = '/mnt/data/file-WWSp8QRvyCHepncJZh84Gz'\n",
      "\n",
      "# Tentar carregar o arquivo como um DataFrame\n",
      "data = pd.read_csv(file_path)\n",
      "\n",
      "# Exibir as primeiras linhas do DataFrame para entender sua estrutura\n",
      "data.head()\n",
      "==========\n",
      "\n",
      "====Step message_creation\n",
      "O arquivo contém dados da variação do dólar ao longo de 2024, com colunas que representam o mês, o ano, a menor cotação, a maior cotação e a cotação média do dólar em reais. Vamos gerar um gráfico para visualizar a variação da cotação média do dólar ao longo do ano de 2024.\n",
      "\n",
      "====Step tool_calls\n",
      "==========\n",
      "import matplotlib.pyplot as plt\n",
      "\n",
      "# Definir os valores do eixo x (meses) e eixo y (cotação média)\n",
      "meses = data['Mês']\n",
      "cotacao_media = data['Cotação Média (R$)']\n",
      "\n",
      "# Criar o gráfico de linha\n",
      "plt.figure(figsize=(10, 6))\n",
      "plt.plot(meses, cotacao_media, marker='o', linestyle='-', color='b', label='Cotação Média')\n",
      "\n",
      "# Configurações do gráfico\n",
      "plt.title('Variação da Cotação Média do Dólar em 2024')\n",
      "plt.xlabel('Mês')\n",
      "plt.ylabel('Cotação Média (R$)')\n",
      "plt.xticks(rotation=45)\n",
      "plt.grid(True)\n",
      "plt.legend()\n",
      "\n",
      "# Mostrar o gráfico\n",
      "plt.tight_layout()\n",
      "plt.show()\n",
      "==========\n",
      "\n",
      "====Step message_creation\n",
      "Imagem file-KE1gSkoLMRmtdLgbjp9BmP salva\n"
     ]
    }
   ],
   "source": [
    "for step in run_steps.data[::-1]:\n",
    "    print(f\"\\n====Step {step.step_details.type}\")\n",
    "    if step.step_details.type == \"tool_calls\":\n",
    "        for tool_call in step.step_details.tool_calls:\n",
    "            print(\"=\" *10)\n",
    "            print(tool_call.code_interpreter.input)\n",
    "            print(\"=\"*10)\n",
    "    if step.step_details.type == \"message_creation\":\n",
    "        message = client.beta.threads.messages.retrieve(\n",
    "            thread_id=thread.id,\n",
    "            message_id=step.step_details.message_creation.message_id\n",
    "        )\n",
    "        if message.content[0].type == \"text\":\n",
    "            print(message.content[0].text.value)\n",
    "        if message.content[0].type == \"image_file\":\n",
    "            file_id = message.content[0].image_file.file_id\n",
    "            image_data = client.files.content(file_id)\n",
    "            with open(f\"files/{file.id}.png\", \"wb\") as f:\n",
    "                f.write(image_data.read())\n",
    "                print(f\"Imagem {file_id} salva\")\n",
    "        \n",
    "        # print(message.content[0].text.value)"
   ]
  }
 ],
 "metadata": {
  "kernelspec": {
   "display_name": ".venv",
   "language": "python",
   "name": "python3"
  },
  "language_info": {
   "codemirror_mode": {
    "name": "ipython",
    "version": 3
   },
   "file_extension": ".py",
   "mimetype": "text/x-python",
   "name": "python",
   "nbconvert_exporter": "python",
   "pygments_lexer": "ipython3",
   "version": "3.12.8"
  }
 },
 "nbformat": 4,
 "nbformat_minor": 5
}
