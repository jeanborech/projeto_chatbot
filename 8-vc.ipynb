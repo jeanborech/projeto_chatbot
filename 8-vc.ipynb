{
 "cells": [
  {
   "cell_type": "code",
   "execution_count": 2,
   "id": "8fef80d9",
   "metadata": {},
   "outputs": [],
   "source": [
    "import openai\n",
    "from PIL import Image\n",
    "import requests"
   ]
  },
  {
   "cell_type": "code",
   "execution_count": 3,
   "id": "05e19b0b",
   "metadata": {},
   "outputs": [],
   "source": [
    "client = openai.Client()"
   ]
  },
  {
   "cell_type": "markdown",
   "id": "995a3a37",
   "metadata": {},
   "source": [
    "### Gerar Imagens\n"
   ]
  },
  {
   "cell_type": "code",
   "execution_count": 9,
   "id": "1e93286c",
   "metadata": {},
   "outputs": [],
   "source": [
    "nome=\"dinossauro\"\n",
    "model=\"dall-e-3\"\n",
    "prompt=\"Crie uma imagem de um dinossauro t-rex\"\n",
    "size=\"1024x1024\"\n",
    "quality=\"hd\"\n",
    "style=\"vivid\"\n"
   ]
  },
  {
   "cell_type": "code",
   "execution_count": 10,
   "id": "07f62712",
   "metadata": {},
   "outputs": [],
   "source": [
    "resposta = client.images.generate(\n",
    "    model=model,\n",
    "    prompt=prompt,\n",
    "    size=size,\n",
    "    quality=quality,\n",
    "    style=style,\n",
    "    n=1\n",
    "    \n",
    ")"
   ]
  },
  {
   "cell_type": "code",
   "execution_count": 11,
   "id": "2d2417d9",
   "metadata": {},
   "outputs": [
    {
     "data": {
      "text/plain": [
       "\"A depiction of a T-Rex dinosaur in a prehistoric environment. This majestic creature stands tall, showcasing its short arms and long, muscular tail. Its skin color is a mix of earthy greens and yellows, blending in perfectly with the lush, green vegetation that surrounds it. The T-Rex's colossal size is further highlighted by the smaller dinosaurs and ancient flora observed in the backdrop. The image is set during the day, under a pale, blue Mesozoic sky, dotted with fluffy, white clouds.\""
      ]
     },
     "execution_count": 11,
     "metadata": {},
     "output_type": "execute_result"
    }
   ],
   "source": [
    "#reposta na posição 1\n",
    "resposta.data[0].revised_prompt"
   ]
  },
  {
   "cell_type": "code",
   "execution_count": 12,
   "id": "1f446a7a",
   "metadata": {},
   "outputs": [],
   "source": [
    "#Exemplo: files/robo_praia_dall-e-3_hd_vivid.jpg\n",
    "nome_arquivo = f\"files/{nome}_{model}_{quality}_{style}.jpg\"\n",
    "image_url = resposta.data[0].url  #Pega a URL da imagem da resposta da API\n",
    "image_data = requests.get(image_url).content  #Faz o download dos dados da imagem #Usa a biblioteca requests para baixar o conteúdo binário da imagem JPG,PNG...\n",
    "#Salva a imagem em disco, Abre um arquivo no modo binário (\"wb\") e escreve os dados da imagem nele\n",
    "with open(nome_arquivo, \"wb\") as f:\n",
    "    f.write(image_data)"
   ]
  },
  {
   "cell_type": "markdown",
   "id": "aeb20d48",
   "metadata": {},
   "source": [
    "### Imagem Text\n",
    "- resposta.choices[0].message:\n",
    "Contém o objeto da mensagem gerada pelo modelo, que inclui:\n",
    "\n",
    "role: Quem \"falou\" (assistant = modelo, user = você).\n",
    "\n",
    "content: O texto da resposta."
   ]
  },
  {
   "cell_type": "code",
   "execution_count": 18,
   "id": "c265c4b1",
   "metadata": {},
   "outputs": [],
   "source": [
    "resposta = client.chat.completions.create(\n",
    "    model=\"gpt-4o-mini\",\n",
    "    messages=[{\n",
    "        \"role\": \"user\",\n",
    "        \"content\": [\n",
    "            {\"type\":\"text\", \"text\": \"Descreva a imagem fornecida\"},\n",
    "            {\"type\": \"image_url\", \"image_url\": {\n",
    "                \"url\":\"https://encrypted-tbn0.gstatic.com/images?q=tbn:ANd9GcSktBgdIzltSALzeXnMMueXLXL_Qv0n8Hkmbw&s\"\n",
    "            }}\n",
    "        ]\n",
    "    }]\n",
    ")"
   ]
  },
  {
   "cell_type": "code",
   "execution_count": 19,
   "id": "170ae597",
   "metadata": {},
   "outputs": [
    {
     "data": {
      "text/plain": [
       "'A imagem apresenta um cenário de pôr do sol à beira-mar. No primeiro plano, há uma palmeira à esquerda, que adiciona um toque tropical. O horizonte exibe um pôr do sol vibrante, com tons de laranja e amarelo se misturando a nuvens suaves. A superfície do mar reflete essas cores quentes, criando um efeito tranquilo e sereno. O ambiente parece calmo, evocando uma sensação de paz e beleza natural.'"
      ]
     },
     "execution_count": 19,
     "metadata": {},
     "output_type": "execute_result"
    }
   ],
   "source": [
    "resposta.choices[0].message.content"
   ]
  },
  {
   "cell_type": "markdown",
   "id": "3bad5b83",
   "metadata": {},
   "source": [
    "### Extrair placa de carro\n"
   ]
  },
  {
   "cell_type": "code",
   "execution_count": 23,
   "id": "dc4accd5",
   "metadata": {},
   "outputs": [],
   "source": [
    "texto = \"Qual é a placa? e o modelo do carro!\""
   ]
  },
  {
   "cell_type": "code",
   "execution_count": 24,
   "id": "81c8ec78",
   "metadata": {},
   "outputs": [],
   "source": [
    "resposta = client.chat.completions.create(\n",
    "    model=\"gpt-4o-mini\",\n",
    "    messages=[{\n",
    "        \"role\": \"user\",\n",
    "        \"content\": [\n",
    "            {\"type\":\"text\", \"text\": texto},\n",
    "            {\"type\": \"image_url\", \"image_url\": {\n",
    "                \"url\":\"https://www.shutterstock.com/image-photo/salvador-bahia-brazil-august-21-260nw-2354172265.jpg\"\n",
    "            }}\n",
    "        ]\n",
    "    }],\n",
    "    max_tokens=1000\n",
    ")"
   ]
  },
  {
   "cell_type": "code",
   "execution_count": 25,
   "id": "a72ecb4f",
   "metadata": {},
   "outputs": [
    {
     "data": {
      "text/plain": [
       "'A placa do carro é **RCV3C89**, e o modelo é um **Chevrolet Onix**.'"
      ]
     },
     "execution_count": 25,
     "metadata": {},
     "output_type": "execute_result"
    }
   ],
   "source": [
    "resposta.choices[0].message.content"
   ]
  },
  {
   "cell_type": "markdown",
   "id": "932b7e24",
   "metadata": {},
   "source": [
    "### OCR (Reconhecimento Óptico de Caracteres)\n"
   ]
  },
  {
   "cell_type": "code",
   "execution_count": 26,
   "id": "c71694d9",
   "metadata": {},
   "outputs": [],
   "source": [
    "texto = \"O que está escrito na imagem?\""
   ]
  },
  {
   "cell_type": "code",
   "execution_count": 29,
   "id": "a4619052",
   "metadata": {},
   "outputs": [],
   "source": [
    "resposta = client.chat.completions.create(\n",
    "    model=\"gpt-4o-mini\",\n",
    "    messages=[{\n",
    "        \"role\": \"user\",\n",
    "        \"content\": [\n",
    "            {\"type\":\"text\", \"text\": texto},\n",
    "            {\"type\": \"image_url\", \"image_url\": {\n",
    "                \"url\":\"https://img.nsctotal.com.br/wp-content/uploads/2022/10/Sebrae-bilhete.jpeg-1.jpg\"\n",
    "            }}\n",
    "        ]\n",
    "    }],\n",
    "    max_tokens=1000\n",
    ")"
   ]
  },
  {
   "cell_type": "code",
   "execution_count": 30,
   "id": "0f00dc9f",
   "metadata": {},
   "outputs": [
    {
     "data": {
      "text/plain": [
       "'A mensagem na imagem diz:\\n\\n\"Oi!!!\\n\\nEsperamos este convite com muito carinho, esperamos que goste.\\n\"Enquanto houver vontade de lutar, haverá esperança de vencer!\"\\n\\nBeijos, Equipe Beee Kids e Teen\\n@beeeekids.teen\"'"
      ]
     },
     "execution_count": 30,
     "metadata": {},
     "output_type": "execute_result"
    }
   ],
   "source": [
    "resposta.choices[0].message.content"
   ]
  },
  {
   "cell_type": "code",
   "execution_count": 42,
   "id": "e4362fc6",
   "metadata": {},
   "outputs": [],
   "source": [
    "texto = \"O que há nessas imagens? Existe alguma diferença entre elas?\""
   ]
  },
  {
   "cell_type": "code",
   "execution_count": 45,
   "id": "9c225a9c",
   "metadata": {},
   "outputs": [],
   "source": [
    "resposta = client.chat.completions.create(\n",
    "    model=\"gpt-4o-mini\",\n",
    "    messages=[\n",
    "        {\n",
    "            \"role\": \"user\",\n",
    "            \"content\": [\n",
    "                {\n",
    "                    \"type\": \"text\",\n",
    "                    \"text\": texto,\n",
    "                },\n",
    "                {\n",
    "                    \"type\": \"image_url\",\n",
    "                    \"image_url\": {\n",
    "                        \"url\": \"https://upload.wikimedia.org/wikipedia/commons/thumb/d/dd/Gfp-wisconsin-madison-the-nature-boardwalk.jpg/2560px-Gfp-wisconsin-madison-the-nature-boardwalk.jpg\",\n",
    "                    },\n",
    "                },\n",
    "                {\n",
    "                    \"type\": \"image_url\",\n",
    "                    \"image_url\": {\n",
    "                        \"url\": \"https://img.cdndsgni.com/preview/10097609.jpg\",\n",
    "                    },\n",
    "                },\n",
    "            ],\n",
    "        }\n",
    "    ],\n",
    "    max_tokens=300,\n",
    ")"
   ]
  },
  {
   "cell_type": "code",
   "execution_count": 46,
   "id": "f45386f4",
   "metadata": {},
   "outputs": [
    {
     "data": {
      "text/plain": [
       "'As imagens mostram dois ambientes naturais diferentes. A primeira imagem retrata um caminho de madeira em uma área de campos abertos e vegetação alta sob um céu azul, possivelmente em uma zona úmida ou parque natural. Já a segunda imagem mostra uma praia tropicais com palmeiras, areia e o mar ao fundo, sugerindo um clima mais quente e um ambiente de lazer.\\n\\nAs principais diferenças entre elas são:\\n\\n1. **Ambiente**: A primeira é um campo ou pântano, enquanto a segunda é uma praia.\\n2. **Vegetação**: A presença de grama alta na primeira, em contraste com as palmeiras na segunda.\\n3. **Atividades**: A primeira imagem pode evocar atividades de caminhada na natureza, enquanto a segunda sugere recreação à beira-mar.\\n\\nEssas características definem a atmosfera e o tipo de experiência que cada cenário proporciona.'"
      ]
     },
     "execution_count": 46,
     "metadata": {},
     "output_type": "execute_result"
    }
   ],
   "source": [
    "resposta.choices[0].message.content"
   ]
  }
 ],
 "metadata": {
  "kernelspec": {
   "display_name": ".venv",
   "language": "python",
   "name": "python3"
  },
  "language_info": {
   "codemirror_mode": {
    "name": "ipython",
    "version": 3
   },
   "file_extension": ".py",
   "mimetype": "text/x-python",
   "name": "python",
   "nbconvert_exporter": "python",
   "pygments_lexer": "ipython3",
   "version": "3.12.8"
  }
 },
 "nbformat": 4,
 "nbformat_minor": 5
}
